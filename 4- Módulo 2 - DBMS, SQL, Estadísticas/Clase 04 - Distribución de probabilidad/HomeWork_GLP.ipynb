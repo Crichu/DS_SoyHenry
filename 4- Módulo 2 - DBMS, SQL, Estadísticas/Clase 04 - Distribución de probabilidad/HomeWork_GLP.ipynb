{
 "cells": [
  {
   "cell_type": "code",
   "execution_count": 8,
   "metadata": {},
   "outputs": [
    {
     "data": {
      "text/plain": [
       "0.4773"
      ]
     },
     "execution_count": 8,
     "metadata": {},
     "output_type": "execute_result"
    }
   ],
   "source": [
    "#DISTRIUBUCIONES DISCRETAS\n",
    "import scipy\n",
    "import math\n",
    "\n",
    "def binomial(p, n, x):\n",
    "    ''' Funcion de probabilidad BINOMIAL\n",
    "    binomial(p: probabilidad de exito, n: numero de ensayos, x: numero de exitos)'''\n",
    "    conmb_nN = scipy.special.comb(n,x)\n",
    "    return round( ( conmb_nN *( p ** x ) * ( (1 - p ) ** (n-x)) ), 4)\n",
    "\n",
    "def poisson(mu, x):\n",
    "    ''' Funcion de probabilidad de POISSON \n",
    "    poisson(mu: media o valor esperado de ocurrencias en un intervalo, x: numero de ocurrencias)'''\n",
    "    return round( (( (mu ** x) * (math.e ** (-mu)) ) / ( math.factorial(x) ) ), 4 )\n",
    "\n",
    "def hipergeometrica(x,r,n,N):\n",
    "    ''' funcion de probabilidad HIPERGEOMETRICA\n",
    "    hipergeometrica(x: exitos, r: exitos de la poblacion, n: numero de ensayos, N:numero de elementos en la poblacion)'''\n",
    "    comb_xr = scipy.special.comb(r, x)\n",
    "    comb_Nn = scipy.special.comb(N,n)\n",
    "    comb_resto = scipy.special.comb( ( N - r ), ( n - x ) )\n",
    "    return round( ( (comb_xr * comb_resto) / comb_Nn ), 4)\n"
   ]
  },
  {
   "attachments": {},
   "cell_type": "markdown",
   "metadata": {},
   "source": [
    "1. Considera el experimento que consiste en un empleado que arma un producto.\n",
    "  - a. Defina la variable aleatoria que represente el tiempo en minutos requerido para armar el producto.<br>\n",
    "  - b. ¿Qué valores toma la variable aleatoria?<br>\n",
    "  - c. ¿Es una variable aleatoria discreta o continua?<br>"
   ]
  },
  {
   "cell_type": "code",
   "execution_count": 9,
   "metadata": {},
   "outputs": [],
   "source": [
    "# Variable aleatoria x, con x>0 . x variable continua"
   ]
  },
  {
   "attachments": {},
   "cell_type": "markdown",
   "metadata": {},
   "source": [
    "2. Considera el experimento que consiste en lanzar una moneda dos veces.\n",
    "  - a. Enumere los resultados experimentales.\n",
    "  - b. Defina una variable aleatoria que represente el número de caras en los dos lanzamientos.\n",
    "  - c. Dé el valor que la variable aleatoria tomará en cada uno de los resultados experimentales.\n",
    "  - d. ¿Es una variable aleatoria discreta o continua?"
   ]
  },
  {
   "cell_type": "code",
   "execution_count": 11,
   "metadata": {},
   "outputs": [],
   "source": [
    "# A) 0: seca 1: cara\n",
    "# B) variable aleatoria x\n",
    "# C) x >= 0, x numero entero\n",
    "# D) x es aleatoria discreta"
   ]
  },
  {
   "attachments": {},
   "cell_type": "markdown",
   "metadata": {},
   "source": [
    "3. Considera las decisiones de compra de los próximos tres clientes que lleguen a la tienda de ropa Martin Clothing Store. De acuerdo con la experiencia, el gerente de la tienda estima que la probabilidad de que un cliente realice una compra es 0.30. \n",
    "  - a. Describa si cumple con las reglas para clasificarlo como un experimiento binomial.\n",
    "  - b. ¿Cuál es la probabilidad de que dos de los próximos tres clientes realicen una compra?\n",
    "  - c. ¿Cuál es la probabilidad de que cuatro de los próximos diez clientes realicen una compra?"
   ]
  },
  {
   "cell_type": "code",
   "execution_count": 16,
   "metadata": {},
   "outputs": [
    {
     "name": "stdout",
     "output_type": "stream",
     "text": [
      "Probabilidad de que 2 de 3 compren con p: 0.3 --> P( x=2 )0.189 \n",
      "Probabilidad de que 4 de 10 compren con p: 0.3 --> P( x=4 )0.2001 \n"
     ]
    }
   ],
   "source": [
    "#A) Dado que hay dos resultados posibles, si compro o no compro y considerando que cada compra es independiente deel resto. A su vez asumiendo el criterio de estacionariedad\n",
    "# es decir que esas probabilidades no cambien, se clasifica como experimento binomial\n",
    "# B)\n",
    "p = 0.3\n",
    "x = 2 \n",
    "n = 3\n",
    "print( \"Probabilidad de que 2 de 3 compren con p: 0.3 --> P( x=2 ){} \".format( binomial(p,n,x) ) )\n",
    "# D)\n",
    "p = 0.3\n",
    "x = 4 \n",
    "n = 10\n",
    "print( \"Probabilidad de que 4 de 10 compren con p: 0.3 --> P( x=4 ){} \".format( binomial(p,n,x) ) )"
   ]
  },
  {
   "attachments": {},
   "cell_type": "markdown",
   "metadata": {},
   "source": [
    "4.  A la oficina de reservaciones de una aerolínea regional llegan 48 llamadas por hora.\n",
    "- a. Calcule la probabilidad de recibir cinco llamadas en un lapso de 5 minutos.\n",
    "- b. Estime la probabilidad de recibir exactamente 10 llamadas en un lapso de 15 minutos.\n",
    "- c. Suponga que no hay ninguna llamada en espera. Si el agente de viajes necesitará 5 minutos para la llamada que está atendiendo, ¿cuántas llamadas habrá en espera para cuando él termine? ¿Cuál es la probabilidad de que no haya ninguna llamada en espera?\n",
    "- d. Si en este momento no hay ninguna llamada, ¿cuál es la probabilidad de que el agente de viajes pueda tomar 3 minutos de descanso sin ser interrumpido por una llamada?\n"
   ]
  },
  {
   "cell_type": "code",
   "execution_count": 26,
   "metadata": {},
   "outputs": [
    {
     "name": "stdout",
     "output_type": "stream",
     "text": [
      "La probailidad de recibir 5 llamadas en 5 minutos es --> 0.1563\n",
      "La probailidad de recibir 10 llamadas en 15 minutos es --> 0.1048\n",
      "En promedio habrá 4 llamadas en espera \n",
      "La probailidad de recibir no recibir llamadas en esos 5 minutos de espera --> 0.0183\n",
      "La probailidad de no recibir llamads en 3 minutos es --> 0.0907\n"
     ]
    }
   ],
   "source": [
    "# Se corresponde con una distribución de Poisson, considerando la probilidad de ocurrencia igual para cada intervalo, además de considerar que\n",
    "# La ocurrencia o no-ocurrencia en cualquier intervalo es independiente de la ocurrencia o no-ocurrencia en cualquier otro intervalo.\n",
    "#A)\n",
    "mu = 48 # Numero medio, o valor esperado de llamadas por hora\n",
    "mu = (mu/60) * 5 # Nos interesa en el lapso de 5 minutos\n",
    "x = 5\n",
    "print(\"La probailidad de recibir 5 llamadas en 5 minutos es --> {}\".format( poisson(mu, x) ))\n",
    "#B)\n",
    "mu = 48 # Numero medio, o valor esperado de llamadas por hora\n",
    "mu = (mu/60) * 15 # Nos interesa en el lapso de 15 minutos\n",
    "x = 10\n",
    "print(\"La probailidad de recibir 10 llamadas en 15 minutos es --> {}\".format( poisson(mu, x) ))\n",
    "#C) Como la ocurrencia o no es indpendiente de los intervalos\n",
    "mu = 48 # Numero medio, o valor esperado de llamadas por hora\n",
    "mu = (mu/60) * 5 # Nos interesa en el lapso de 5 minutos que dura la espera\n",
    "x = 0\n",
    "print(\"En promedio habrá {} llamadas en espera \".format(int(mu)))\n",
    "print(\"La probailidad de recibir no recibir llamadas en esos 5 minutos de espera --> {}\".format( poisson(mu, x) ))\n",
    "# D)\n",
    "mu = 48 # Numero medio, o valor esperado de llamadas por hora\n",
    "mu = (mu/60) * 3 # Nos interesa en el lapso de 15 minutos\n",
    "x = 0\n",
    "print(\"La probailidad de no recibir llamads en 3 minutos es --> {}\".format( poisson(mu, x) ))\n"
   ]
  },
  {
   "attachments": {},
   "cell_type": "markdown",
   "metadata": {},
   "source": [
    "5. En una encuesta realizada por Gallup Organization, se les preguntó a los interrogados, “Cuál es el deporte que prefieres ver”. Futbol y básquetbol ocuparon el primero y segundo lugar de preferencia (www.gallup.com, 3 de enero de 2004). Si en un grupo de 10 individuos, siete prefieren futbol y tres prefieren básquetbol. Se toma una muestra aleatoria de tres de estas personas.\n",
    "- a. ¿Cuál es la probabilidad de que exactamente dos prefieren el futbol?\n",
    "- b. ¿De que la mayoría (ya sean dos o tres) prefiere el futbol?"
   ]
  },
  {
   "cell_type": "code",
   "execution_count": 31,
   "metadata": {},
   "outputs": [
    {
     "name": "stdout",
     "output_type": "stream",
     "text": [
      " La probabilidad de que 2 de 10 prefieran el futbol es --> 0.525\n",
      " La probabilidad de que 2 o 3 prefieran el futbol es --> 0.8167\n",
      " La probabilidad de que 2 o 3 prefieran el futbol es --> 0.8167\n"
     ]
    }
   ],
   "source": [
    "# Se puede pensera como una distribucuion de probabilidades hipergeometrica, considerando como exitos los que prefueren el futbol\n",
    "#A)\n",
    "r = 7 # Exitos --> futbol\n",
    "n = 3 # numero de ensayos \n",
    "x = 2 # casos de exitos\n",
    "N = 10 # Poblacion\n",
    "print(\" La probabilidad de que 2 de 10 prefieran el futbol es --> {}\".format(hipergeometrica(x,r,n,N)))\n",
    "#B) De que la mayoria nos hace referencia a una union de varios resultados P(2) U P(3) = P(2) + P(3) - P(2y3) pero la interseccion ya se contempla en los calculos\n",
    "p2 = hipergeometrica(x,r,n,N)\n",
    "p3 = hipergeometrica(3,r,n,N)\n",
    "print(\" La probabilidad de que 2 o 3 prefieran el futbol es --> {}\".format( (p2 + p3)  ))\n",
    "#Tambien puede ser 1 - p(0) - p(1), ya que serían el resto de posibilidadesa, por regla de cierre, la suma da 1\n",
    "print(\" La probabilidad de que 2 o 3 prefieran el futbol es --> {}\".format( ( 1 - hipergeometrica(0,r,n,N) - hipergeometrica(1,r,n,N) ) ) )"
   ]
  },
  {
   "attachments": {},
   "cell_type": "markdown",
   "metadata": {},
   "source": [
    "6. La probabilidad de que a un estudiante le guste este modulo es de 0.7 (en Henry somos optimistas), cual es la probabilidad de que les guste este módulo a 6 de los 10 estudiantes.<br>"
   ]
  },
  {
   "cell_type": "code",
   "execution_count": 32,
   "metadata": {},
   "outputs": [
    {
     "name": "stdout",
     "output_type": "stream",
     "text": [
      "La probabilidad de que le guste el modulo a 6 de 10 estudiantes es -->  0.2001 \n"
     ]
    }
   ],
   "source": [
    "# Distriubcion binomial\n",
    "p = 0.7\n",
    "n = 10\n",
    "x = 6\n",
    "print(\"La probabilidad de que le guste el modulo a 6 de 10 estudiantes es -->  {} \".format( binomial(p,n,x)))"
   ]
  },
  {
   "attachments": {},
   "cell_type": "markdown",
   "metadata": {},
   "source": [
    "7. De todos los push a Git en un Henry Challenge, el 90% lo envía a término. Si se envían 9 ¿cuál es la probabilidad de que 7 lleguen a término?.<br>"
   ]
  },
  {
   "cell_type": "code",
   "execution_count": 33,
   "metadata": {},
   "outputs": [
    {
     "name": "stdout",
     "output_type": "stream",
     "text": [
      "La probailiad de enviar a tiempo de 7 de 9 es --> 0.1722\n"
     ]
    }
   ],
   "source": [
    "#Binomial \n",
    "p = 0.9\n",
    "n = 9\n",
    "x = 7\n",
    "print(\"La probailiad de enviar a tiempo de 7 de 9 es --> {}\".format( binomial(p,n,x) ))"
   ]
  },
  {
   "attachments": {},
   "cell_type": "markdown",
   "metadata": {},
   "source": [
    "8. En relación con el enunciado anterior cálcule la probabilidad de que 7 o más lleguen a término.<br>"
   ]
  },
  {
   "cell_type": "code",
   "execution_count": 35,
   "metadata": {},
   "outputs": [
    {
     "name": "stdout",
     "output_type": "stream",
     "text": [
      "La probailiad de enviar a tiempo de 7 o más es --> 0.947\n"
     ]
    }
   ],
   "source": [
    "prob = 0\n",
    "p = 0.9\n",
    "n = 9\n",
    "x = 7\n",
    "for i in range(x, n+1):\n",
    "    prob +=  binomial(p,n,i)\n",
    "\n",
    "print(\"La probailiad de enviar a tiempo de 7 o más es --> {}\".format( round(prob, 4) ))"
   ]
  },
  {
   "attachments": {},
   "cell_type": "markdown",
   "metadata": {},
   "source": [
    "9. La cantidad de alumnos promedio que se ausentan en un día de clases en la carrera de Data Science es de 10. Calcular cual es la probabilidad de que se ausenten 7 alumnos.<br>"
   ]
  },
  {
   "cell_type": "code",
   "execution_count": 37,
   "metadata": {},
   "outputs": [
    {
     "name": "stdout",
     "output_type": "stream",
     "text": [
      "La probabilidad de que se ausenten 7 alumnos un dia x es --> 0.0901\n"
     ]
    }
   ],
   "source": [
    "# Poisson, es un lapso de un día (tiempo), y mu: 10\n",
    "mu = 10\n",
    "x = 7\n",
    "print(\"La probabilidad de que se ausenten 7 alumnos un dia x es --> {}\".format( poisson( mu,x ) ) )\n"
   ]
  },
  {
   "attachments": {},
   "cell_type": "markdown",
   "metadata": {},
   "source": [
    "10. Cuando inicia una clase, los estudiantes ingresan a un ritmo de 5 estudiantes por minuto. Calcular cual es la probabilidad de que ingresen 7 estudiantes por minuto.<br>"
   ]
  },
  {
   "cell_type": "code",
   "execution_count": 38,
   "metadata": {},
   "outputs": [
    {
     "name": "stdout",
     "output_type": "stream",
     "text": [
      "La probabilidad de que ingresen 7 estudiantes por minuto es --> 0.1044\n"
     ]
    }
   ],
   "source": [
    "#Pisson, mu de 5 estudiantes por minuto (lapso de tiempo)\n",
    "mu = 5\n",
    "x = 7\n",
    "print(\"La probabilidad de que ingresen 7 estudiantes por minuto es --> {}\".format(poisson(mu,x)))"
   ]
  },
  {
   "attachments": {},
   "cell_type": "markdown",
   "metadata": {},
   "source": [
    "COMPLEMENTARIOS"
   ]
  },
  {
   "attachments": {},
   "cell_type": "markdown",
   "metadata": {},
   "source": [
    "11. Cada 3 días ingresan 10 estudiantes nuevos al Prep Course de Henry, calcule la probabilidad de que ingresen 15 nuevos estudiantes en un período de 6 días.<br>"
   ]
  },
  {
   "cell_type": "code",
   "execution_count": 39,
   "metadata": {},
   "outputs": [
    {
     "name": "stdout",
     "output_type": "stream",
     "text": [
      "La probabilidad de 15 estudiantes nuevos en 6 días es 0.0516\n"
     ]
    }
   ],
   "source": [
    "# Poisson, hay una mu de 10 estudiantes cada 3 días. \n",
    "mu = 10\n",
    "mu = (10/3) * 6 #Porque pide en 6 días\n",
    "x = 15\n",
    "print(\"La probabilidad de 15 estudiantes nuevos en 6 días es {}\".format( poisson(mu,x) )) "
   ]
  },
  {
   "attachments": {},
   "cell_type": "markdown",
   "metadata": {},
   "source": [
    "12. En una distribución de Poisson de lamba_np=3, cual es la probabilidad de x>=1.<br>"
   ]
  },
  {
   "cell_type": "code",
   "execution_count": 41,
   "metadata": {},
   "outputs": [
    {
     "name": "stdout",
     "output_type": "stream",
     "text": [
      "La probabilidad de x>= 1 es --> 0.9502\n"
     ]
    }
   ],
   "source": [
    "mu = 3\n",
    "x = 1\n",
    "prob = 1 - poisson(mu,0)\n",
    "print(\"La probabilidad de x>= 1 es --> {}\".format(round(prob,4)))"
   ]
  },
  {
   "attachments": {},
   "cell_type": "markdown",
   "metadata": {},
   "source": [
    "Distribución Normal:<br>\n",
    "13. La calificación promedio de los estudiantes de Henry es de 78 con una desviación estandar de 25. Cual es la probabilidad de tener estudiantes con calificaciones mayores o iguales 90.]}"
   ]
  },
  {
   "cell_type": "code",
   "execution_count": 47,
   "metadata": {},
   "outputs": [
    {
     "name": "stdout",
     "output_type": "stream",
     "text": [
      "Observando la tabla para z: 0.48, P(x >= 90) es: 0.3156\n",
      "A partir de la curva original 0.3156\n",
      "A partir de la curva original 0.3156\n"
     ]
    }
   ],
   "source": [
    "# Distriubcion noromal media = 78, std = 25, p(x>= 90)\n",
    "# Hay que estandarizar primero, z = (x - mu)/sigma\n",
    "x = 90\n",
    "mu = 78\n",
    "std = 25\n",
    "z = (x-mu)/std\n",
    "prob = 0.3156\n",
    "print(f\"Observando la tabla para z: {z}, P(x >= 90) es: {prob}\")\n",
    "\n",
    "normal = scipy.stats.norm(mu, std)\n",
    "prob2 = 1- normal.cdf(90) #CDF es cumulative distribution function, Función de Distribución Acumulada, calcula la prob o el area bajo la curva hasta ahí\n",
    "print(\"A partir de la curva original {}\".format(round(prob2, 4)))\n",
    "\n",
    "normalEstandar = scipy.stats.norm(0, 1)\n",
    "prob3 = 1 - normalEstandar.cdf(z) \n",
    "print(\"A partir de la curva original {}\".format(round(prob3, 4)))"
   ]
  }
 ],
 "metadata": {
  "kernelspec": {
   "display_name": "Python 3",
   "language": "python",
   "name": "python3"
  },
  "language_info": {
   "codemirror_mode": {
    "name": "ipython",
    "version": 3
   },
   "file_extension": ".py",
   "mimetype": "text/x-python",
   "name": "python",
   "nbconvert_exporter": "python",
   "pygments_lexer": "ipython3",
   "version": "3.9.7"
  },
  "orig_nbformat": 4
 },
 "nbformat": 4,
 "nbformat_minor": 2
}
