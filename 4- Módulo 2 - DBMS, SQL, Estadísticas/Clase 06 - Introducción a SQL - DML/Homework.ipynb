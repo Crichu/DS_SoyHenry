{
 "cells": [
  {
   "attachments": {},
   "cell_type": "markdown",
   "metadata": {},
   "source": [
    "1.\tInserte los [siguientes](https://github.com/soyHenry/DS-M2/blob/main/Clase%2002/Homework/registros_henry.sql) registros dentro de la base de datos creada en la clase anterior, corregir los errores que impidan la instrucción.<br>"
   ]
  },
  {
   "attachments": {},
   "cell_type": "markdown",
   "metadata": {},
   "source": [
    "2.\tNo se sabe con certeza el lanzamiento de las cohortes N° 1245 y N° 1246, se solicita que las elimine de la tabla.<br>"
   ]
  },
  {
   "attachments": {},
   "cell_type": "markdown",
   "metadata": {},
   "source": [
    "3.\tSe ha decidido retrasar el comienzo de la cohorte N°1243, por lo que la nueva fecha de inicio será el 16/05. Se le solicita modificar la fecha de inicio de esos alumnos.<br>"
   ]
  },
  {
   "attachments": {},
   "cell_type": "markdown",
   "metadata": {},
   "source": [
    "4.\tEl alumno N° 165 solicito el cambio de su Apellido por “Ramirez”. <br>"
   ]
  },
  {
   "attachments": {},
   "cell_type": "markdown",
   "metadata": {},
   "source": [
    "5.\tEl área de Learning le solicita un listado de alumnos de la Cohorte N°1243 que incluya la fecha de ingreso.<br>"
   ]
  },
  {
   "attachments": {},
   "cell_type": "markdown",
   "metadata": {},
   "source": [
    "6.\tComo parte de un programa de actualización, el área de People le solicita un listado de los instructores que dictan la carrera de Full Stack Developer.<br>"
   ]
  },
  {
   "attachments": {},
   "cell_type": "markdown",
   "metadata": {},
   "source": [
    "7. Se desea saber que alumnos formaron parte de la cohorte N° 1235. Elabore un listado.<br>\n"
   ]
  },
  {
   "attachments": {},
   "cell_type": "markdown",
   "metadata": {},
   "source": [
    "8. Del listado anterior se desea saber quienes ingresaron en el año 2019.<br>\n"
   ]
  },
  {
   "attachments": {},
   "cell_type": "markdown",
   "metadata": {},
   "source": [
    "9. La siguiente consulta permite acceder a datos de otras tablas y devolver un listado con la carrera a la cual pertenece cada alumno:\n",
    "\n",
    "```SQL\n",
    "/* En el M3 profudizaremos en el aprendizaje de SQL, pero aprovechemos lo que sabemos hasta aquí para entender como funcionan las relacionales. */\n",
    "\n",
    "SELECT alumnos.nombre, apellido, fechaNacimiento, carreras.nombre\n",
    "FROM alumnos\n",
    "INNER JOIN cohortes\n",
    "ON cohorte=idCohorte\n",
    "INNER JOIN carreras\n",
    "ON carrera = idCarrera\n",
    "```\n",
    "Coneste la siguientes interrogantes:\n",
    "  a. ¿Que campos permiten que se puedan acceder al nombre de la carrera?\n",
    "  b. ¿Que tipo de ralación existe entre el nombre la tabla cohortes y alumnos?\n",
    "  c. ¿Proponga dos opciones para filtrar el listado solo por los alumnos que pertenecen a 'Full Stack Developer', utilizando LIKE y NOT LIKE?, ¿Cual de las dos opciones es la manera correcta de hacerlo?, ¿Por que?\n",
    "  d. ¿Proponga dos opciones para filtrar el listado solo por los alumnos que pertenecen a 'Full Stack Developer', utilizando \" = \" y \" != \"?  ¿Cual de las dos opciones es la manera correcta de hacerlo?, ¿Por que?\n",
    "  e. ¿Como emplearía el filtrado utilizando el campo idCarrera?"
   ]
  }
 ],
 "metadata": {
  "kernelspec": {
   "display_name": "Python 3",
   "language": "python",
   "name": "python3"
  },
  "language_info": {
   "name": "python",
   "version": "3.11.2"
  },
  "orig_nbformat": 4
 },
 "nbformat": 4,
 "nbformat_minor": 2
}
