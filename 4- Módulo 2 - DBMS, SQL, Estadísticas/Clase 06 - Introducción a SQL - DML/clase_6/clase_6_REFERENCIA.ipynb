{
 "cells": [
  {
   "cell_type": "code",
   "execution_count": null,
   "id": "499893a3",
   "metadata": {},
   "outputs": [],
   "source": [
    "!pip install pymysql"
   ]
  },
  {
   "cell_type": "code",
   "execution_count": null,
   "id": "f8023eb7",
   "metadata": {},
   "outputs": [],
   "source": [
    "import pymysql"
   ]
  },
  {
   "cell_type": "code",
   "execution_count": null,
   "id": "75cb5027",
   "metadata": {},
   "outputs": [],
   "source": [
    "clave_file = open('pass_.txt')"
   ]
  },
  {
   "cell_type": "code",
   "execution_count": null,
   "id": "63b61dc5",
   "metadata": {},
   "outputs": [],
   "source": [
    "clave = clave_file.read()"
   ]
  },
  {
   "cell_type": "code",
   "execution_count": null,
   "id": "6d035a74",
   "metadata": {},
   "outputs": [],
   "source": [
    "conexion = pymysql.connect(\n",
    "   host='localhost',\n",
    "   database='henry',\n",
    "   user='root',\n",
    "   password= clave\n",
    ")\n",
    "cursor = conexion.cursor()"
   ]
  },
  {
   "cell_type": "code",
   "execution_count": null,
   "id": "a2658698",
   "metadata": {},
   "outputs": [],
   "source": [
    "cursor.execute(\"USE henry;\")"
   ]
  },
  {
   "cell_type": "code",
   "execution_count": null,
   "id": "57390a43",
   "metadata": {},
   "outputs": [],
   "source": [
    "cursor.execute(\n",
    "    '''SELECT alumno.nombre, carrera.nombre, cohorte.codigo\n",
    "    FROM alumno \n",
    "    join cohorte on cohorte.idCohorte = alumno.idCohorte \n",
    "    join carrera on carrera.idCarrera = cohorte.idCarrera''')\n",
    "for a in cursor:\n",
    "   print (a)"
   ]
  },
  {
   "cell_type": "code",
   "execution_count": null,
   "id": "3c2b50de",
   "metadata": {},
   "outputs": [],
   "source": [
    "cursor.execute(\"update carrera set nombre = 'Ciencia de datos' where idCarrera = 2\")"
   ]
  },
  {
   "cell_type": "code",
   "execution_count": null,
   "id": "ff1dd0fa",
   "metadata": {},
   "outputs": [],
   "source": [
    "cursor.execute(\"select * from carrera\")\n",
    "for a in cursor:\n",
    "    print(a)"
   ]
  },
  {
   "cell_type": "code",
   "execution_count": null,
   "id": "0303f6ac",
   "metadata": {},
   "outputs": [],
   "source": [
    "conexion.commit()"
   ]
  },
  {
   "cell_type": "code",
   "execution_count": null,
   "id": "55e2fe31",
   "metadata": {},
   "outputs": [],
   "source": [
    "conexion.close()"
   ]
  },
  {
   "cell_type": "code",
   "execution_count": null,
   "id": "44201a55",
   "metadata": {},
   "outputs": [],
   "source": []
  }
 ],
 "metadata": {
  "kernelspec": {
   "display_name": "Python 3 (ipykernel)",
   "language": "python",
   "name": "python3"
  },
  "language_info": {
   "codemirror_mode": {
    "name": "ipython",
    "version": 3
   },
   "file_extension": ".py",
   "mimetype": "text/x-python",
   "name": "python",
   "nbconvert_exporter": "python",
   "pygments_lexer": "ipython3",
   "version": "3.9.13"
  }
 },
 "nbformat": 4,
 "nbformat_minor": 5
}
